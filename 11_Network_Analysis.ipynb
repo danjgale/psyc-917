{
 "cells": [
  {
   "cell_type": "markdown",
   "metadata": {},
   "source": [
    "# Network Analysis of Functional Connectivity\n",
    "\n",
    "In this tutorial, we'll apply simply graph theoretical techniques to characterize our functional connectivity data we generated in tutorial 10. We'll discuss how our connectivity matrix maps onto a graph, and what types of measures we can pull out of it in order to understand the underlying connectivity structure. \n",
    "\n",
    "Without a doubt, the foundational paper for the analyses we'll perfom here is [Rubinov and Sporns (2010)](https://www.sciencedirect.com/science/article/abs/pii/S105381190901074X?via%3Dihub). They describe a variety of ways in which we can analyze brain networks beyond applying simple statistics to connectivity matrices (e.g., mass univariate testing). Definitely required reading if you are interested in functional connectivity. Another excellent resource is [Fundamentals of Brain Network Analysis](https://www.elsevier.com/books/fundamentals-of-brain-network-analysis/fornito/978-0-12-407908-3) by Bullmore et al.\n",
    "\n",
    "To get started, we need to install [Networkx](https://networkx.github.io/documentation/stable/index.html), which let's us generate graphs. In combination with Brain Connectivity Toolbox (BCT), we have a core toolbox for network neuroscience at our disposal. Installing it below:"
   ]
  },
  {
   "cell_type": "code",
   "execution_count": null,
   "metadata": {},
   "outputs": [],
   "source": [
    "pip install networkx"
   ]
  },
  {
   "cell_type": "markdown",
   "metadata": {},
   "source": [
    "Like last time, make sure you restart the notebook kernel (`Kernel` > `Restart Kernel...`). Once that is done, you can run the next cell to import all of the dependencies for today. "
   ]
  },
  {
   "cell_type": "code",
   "execution_count": null,
   "metadata": {},
   "outputs": [],
   "source": [
    "import numpy as np\n",
    "import pandas as pd\n",
    "from scipy import spatial, stats, cluster\n",
    "import matplotlib.pyplot as plt\n",
    "import seaborn as sns\n",
    "import nibabel as nib\n",
    "from nilearn import plotting, input_data\n",
    "from nilearn.datasets import fetch_atlas_schaefer_2018\n",
    "import networkx as nx\n",
    "import bct"
   ]
  },
  {
   "cell_type": "markdown",
   "metadata": {},
   "source": [
    "We'll load in our atlas we used in tutorial 10 (the Schaefer 100 atlas). We'll be using this later. "
   ]
  },
  {
   "cell_type": "code",
   "execution_count": null,
   "metadata": {},
   "outputs": [],
   "source": [
    "atlas = fetch_atlas_schaefer_2018(n_rois=100, resolution_mm=2)\n",
    "labels = [x.decode() for x in atlas['labels']]"
   ]
  },
  {
   "cell_type": "markdown",
   "metadata": {},
   "source": [
    "## 1. Thresholding\n",
    "\n",
    "First, we'll load our connectivity matrix and then threshold it using an absolute threshold. All of the measures we'll use hear work with either weighted or binary matrices (note that some methods that we don't explore only accept binary matrices).  "
   ]
  },
  {
   "cell_type": "code",
   "execution_count": null,
   "metadata": {},
   "outputs": [],
   "source": [
    "cmat = np.loadtxt('connectivity.csv', delimiter=',')\n",
    "\n",
    "fig, ax = plt.subplots(figsize=(16, 16))\n",
    "plotting.plot_matrix(cmat, vmax=1, vmin=-1, figure=fig)"
   ]
  },
  {
   "cell_type": "code",
   "execution_count": null,
   "metadata": {},
   "outputs": [],
   "source": [
    "thresh_cmat = bct.threshold_absolute(cmat, thr=.4)\n",
    "\n",
    "fig, ax = plt.subplots(figsize=(16, 16))\n",
    "plotting.plot_matrix(thresh_cmat, vmax=1, vmin=-1, figure=fig)"
   ]
  },
  {
   "cell_type": "code",
   "execution_count": null,
   "metadata": {},
   "outputs": [],
   "source": [
    "bin_cmat = bct.binarize(thresh_cmat)\n",
    "fig, ax = plt.subplots(figsize=(16, 16))\n",
    "plotting.plot_matrix(bin_cmat, vmax=1, vmin=0, cmap='binary', figure=fig)"
   ]
  },
  {
   "cell_type": "markdown",
   "metadata": {},
   "source": [
    "## 2. Constructing a graph\n",
    "\n",
    "Let's just take the same subnetwork we looked at last week, and also add in the motor regions. This will make life a bit easier for understanding various graph theory concepts and measures. Selecting this set of regions from our thresholded matrix:"
   ]
  },
  {
   "cell_type": "code",
   "execution_count": null,
   "metadata": {},
   "outputs": [],
   "source": [
    "A = thresh_cmat[:15, :15]\n",
    "region_labels = [x[-5:] for x in labels[:15]]\n",
    "\n",
    "fig, ax = plt.subplots(figsize=(5, 5))\n",
    "plotting.plot_matrix(A, vmax=1, vmin=-1, labels=region_labels, figure=fig)"
   ]
  },
  {
   "cell_type": "markdown",
   "metadata": {},
   "source": [
    "In graph theory speak, each region is a **node**. And each corretion between regions/nodes are called **edges**; the strength of the correlation is the edge **weight**. This connectivity structure can be represented in a graph. First we need to build our graph in networkx (`nx`). We can use our connectivity matrix, called an **adjacency matrix** in graph theory (`A`), to create `G`, our graph. Note that we're generating an **undirected weighted** graph because correlations (weights) are nondirectional. \n",
    "\n",
    "We'll also label our nodes according to the regions. "
   ]
  },
  {
   "cell_type": "code",
   "execution_count": null,
   "metadata": {},
   "outputs": [],
   "source": [
    "G = nx.from_numpy_matrix(A)\n",
    "G = nx.relabel_nodes(G, lambda x: region_labels[x])"
   ]
  },
  {
   "cell_type": "markdown",
   "metadata": {},
   "source": [
    "### 2.1 Plotting our graph\n",
    "\n",
    "Now we can plot our graph. A really common way to plot graphs are using force-directed drawing algorithms that try to position nodes such that the edges are roughly equal in length with minimal overlap (see [Wikipedia](https://en.wikipedia.org/wiki/Force-directed_graph_drawing)). Networkx has the Kamada-Kawai algorithm: "
   ]
  },
  {
   "cell_type": "code",
   "execution_count": null,
   "metadata": {},
   "outputs": [],
   "source": [
    "region_colors = ['purple'] * 9 + ['steelblue'] * 6\n",
    "\n",
    "nx.draw_kamada_kawai(G, node_color=region_colors, node_size=1000, \n",
    "                     with_labels=True, font_color='w')"
   ]
  },
  {
   "cell_type": "markdown",
   "metadata": {},
   "source": [
    "### 2.2 Adding weights\n",
    "\n",
    "Above, we're completely ignoring weights/correlations. We can add these in, but we'll have to program this differently so we can customize it a bit.\n",
    "\n",
    "First, we can extract out our edges and their corresponding weights. This is akin to going through each cell above and getting the corresponding regions, and the correlation value."
   ]
  },
  {
   "cell_type": "code",
   "execution_count": null,
   "metadata": {},
   "outputs": [],
   "source": [
    "edges, weights = zip(*nx.get_edge_attributes(G,'weight').items())\n",
    "edges"
   ]
  },
  {
   "cell_type": "code",
   "execution_count": null,
   "metadata": {},
   "outputs": [],
   "source": [
    "weights"
   ]
  },
  {
   "cell_type": "code",
   "execution_count": null,
   "metadata": {},
   "outputs": [],
   "source": [
    "weight_widths = [(.5 + x) ** 4 for x in weights]\n",
    "\n",
    "\n",
    "layout = nx.kamada_kawai_layout(G)\n",
    "nx.draw_networkx_nodes(G, layout, node_color=region_colors, node_size=1000, \n",
    "                       with_labels=True)\n",
    "nx.draw_networkx_labels(G, layout, font_color='w')\n",
    "nx.draw_networkx_edges(G, layout, edgelist=edges, width=weight_widths)\n",
    "plt.axis('off');"
   ]
  },
  {
   "cell_type": "markdown",
   "metadata": {},
   "source": [
    "## 3. Graph measures\n",
    "\n",
    "### 3.1 Network density\n",
    "\n",
    "We can measure how dense each network is by dividing the number of edges by the number of possible edges. In other words, **network density** is the fraction of possible edges that exist.   "
   ]
  },
  {
   "cell_type": "code",
   "execution_count": null,
   "metadata": {},
   "outputs": [],
   "source": [
    "vis_density, n, k = bct.density_und(A[:9, :9])\n",
    "mot_density, n, k = bct.density_und(A[9:, 9:])\n",
    "\n",
    "fig, ax = plt.subplots(figsize=(2, 3))\n",
    "ax.bar(['Vis', 'Mot'], [vis_density, mot_density],\n",
    "       width=.8, color=['purple', 'steelblue'])\n",
    "sns.despine()"
   ]
  },
  {
   "cell_type": "markdown",
   "metadata": {},
   "source": [
    "By looking at our connectivity matrix, we can confirm these results. For instance, all of the motor regions are connected with one another, hence a density of 1. "
   ]
  },
  {
   "cell_type": "markdown",
   "metadata": {},
   "source": [
    "### 3.2 Node degree and strength\n",
    "\n",
    "**Node degree** is simply the number of edges for a node. If we didn't threshold our connectivity matrix, all nodes would have the same degree (i.e. number of regions - 1). Because we applied a threshold, certain nodes have greater degree than others. We can use Brain Connectivity Toolbox to compute the degrees of our nodes:  "
   ]
  },
  {
   "cell_type": "code",
   "execution_count": null,
   "metadata": {},
   "outputs": [],
   "source": [
    "degrees = bct.degrees_und(A)\n",
    "\n",
    "fig, ax = plt.subplots(figsize=(5, 3))\n",
    "ax.bar(region_labels, degrees, width=.8, color=region_colors)\n",
    "plt.xticks(rotation=90)\n",
    "sns.despine()"
   ]
  },
  {
   "cell_type": "markdown",
   "metadata": {},
   "source": [
    "Node degree ignores the connectivity weights (i.e. correlation). **Node strength**, however, is the sum of weights for a node. "
   ]
  },
  {
   "cell_type": "code",
   "execution_count": null,
   "metadata": {},
   "outputs": [],
   "source": [
    "strengths = bct.strengths_und(A)\n",
    "\n",
    "fig, ax = plt.subplots(figsize=(5, 3))\n",
    "ax.bar(region_labels, strengths, width=.8, color=region_colors)\n",
    "plt.xticks(rotation=90)\n",
    "sns.despine()"
   ]
  },
  {
   "cell_type": "markdown",
   "metadata": {},
   "source": [
    "### 3.3 Centrality\n",
    "\n",
    "Centrality speaks to the extent of which a node is 'central' to the network. There are a variety of measures for centrality, but a particularly popular measure is **eigenvector centrality**."
   ]
  },
  {
   "cell_type": "code",
   "execution_count": null,
   "metadata": {},
   "outputs": [],
   "source": [
    "eigin_cent = bct.eigenvector_centrality_und(A)\n",
    "\n",
    "fig, ax = plt.subplots(figsize=(5, 3))\n",
    "ax.bar(region_labels, eigin_cent, width=.8, color=region_colors)\n",
    "plt.xticks(rotation=90)\n",
    "sns.despine()"
   ]
  },
  {
   "cell_type": "markdown",
   "metadata": {},
   "source": [
    "Alternatively, there is **betweeness centrality**."
   ]
  },
  {
   "cell_type": "code",
   "execution_count": null,
   "metadata": {},
   "outputs": [],
   "source": [
    "between_cent = bct.betweenness_wei(A)\n",
    "\n",
    "fig, ax = plt.subplots(figsize=(5, 3))\n",
    "ax.bar(region_labels, between_cent, width=.8, color=region_colors)\n",
    "plt.xticks(rotation=90)\n",
    "sns.despine()"
   ]
  },
  {
   "cell_type": "markdown",
   "metadata": {},
   "source": [
    "### 3.4 Participation Coefficient\n",
    "\n",
    "The **participant coefficient** is simply the number of edges that connect to nodes in different clusters/modules (e.g., brain network). So we can measure how much a brain region 'participates' in other brain networks. If the participation coefficient is high, the brain region connects to many other brain networks. Low participation coefficients mean that a brain region mostly (if not entirely) connects to regions within the network it belongs to.   "
   ]
  },
  {
   "cell_type": "code",
   "execution_count": null,
   "metadata": {},
   "outputs": [],
   "source": [
    "network_index = [1, 1, 1, 1, 1, 1, 1, 1, 1, 2, 2, 2, 2, 2, 2]\n",
    "participation = bct.participation_coef(A, network_index)\n",
    "\n",
    "fig, ax = plt.subplots(figsize=(5, 3))\n",
    "ax.bar(region_labels, participation, width=.8, color=region_colors)\n",
    "plt.xticks(rotation=90)\n",
    "sns.despine()"
   ]
  },
  {
   "cell_type": "markdown",
   "metadata": {},
   "source": [
    "### 3.5 Clustering and Modularity\n",
    "\n",
    "Modules refer to subgroups (or clusters) of densely connected nodes. We might expect our pre-defined functional brain networks that we already have (Vis, Mot) are their own clusters. We can also apply clustering algorithms or dedicated community-detection algorithms to generate our own communities/clusters/modules. \n",
    "\n",
    "We've seen hierarchical clustering before when we did RSA and briefly when we were visualizing connectivity matrices last week. If we apply hierarchical clustering to these data, we get the following:"
   ]
  },
  {
   "cell_type": "code",
   "execution_count": null,
   "metadata": {},
   "outputs": [],
   "source": [
    "# get upper triangle\n",
    "distances = spatial.distance.squareform(1 - A, checks=False)\n",
    "\n",
    "# apply hierarchical clustering \n",
    "linkages = cluster.hierarchy.linkage(distances, method='average')\n",
    "\n",
    "# plot dendogram\n",
    "dendo = cluster.hierarchy.dendrogram(linkages, labels=region_labels)\n",
    "plt.xticks(rotation=45);"
   ]
  },
  {
   "cell_type": "markdown",
   "metadata": {},
   "source": [
    "There are other "
   ]
  },
  {
   "cell_type": "code",
   "execution_count": null,
   "metadata": {},
   "outputs": [],
   "source": [
    "dendo"
   ]
  },
  {
   "cell_type": "code",
   "execution_count": null,
   "metadata": {},
   "outputs": [],
   "source": [
    "modul, q = bct.modularity_und(A)\n",
    "q"
   ]
  },
  {
   "cell_type": "code",
   "execution_count": null,
   "metadata": {},
   "outputs": [],
   "source": [
    "modul_louvain, q = bct.community_louvain(A)\n",
    "q"
   ]
  },
  {
   "cell_type": "code",
   "execution_count": null,
   "metadata": {},
   "outputs": [],
   "source": [
    "fig, ax = plt.subplots()\n",
    "ax.imshow(np.array([modul, modul_louvain]).T, cmap='tab10')\n",
    "ax.set(yticklabels=region_labels, yticks=range(len(region_labels)), \n",
    "       xticklabels=['Modularity', 'Louvain'], xticks=[0, 1]);\n",
    "plt.xticks(rotation=90)"
   ]
  },
  {
   "cell_type": "markdown",
   "metadata": {},
   "source": [
    "## 4. Whole-brain analysis"
   ]
  },
  {
   "cell_type": "code",
   "execution_count": null,
   "metadata": {},
   "outputs": [],
   "source": [
    "label_data = pd.DataFrame({'number': np.arange(len(labels)) + 1, 'region': labels})\n",
    "label_data"
   ]
  },
  {
   "cell_type": "code",
   "execution_count": null,
   "metadata": {},
   "outputs": [],
   "source": [
    "def set_color(x):\n",
    "    \n",
    "    networks = ['Vis', 'SomMot', 'DorsAttn', 'SalVentAttn', \n",
    "                'Limbic', 'Cont', 'Default']\n",
    "    cmap = ['purple', 'steelblue', 'green', 'violet', \n",
    "            'lightgoldenrodyellow', 'orange', 'indianred']\n",
    "    pairings = dict(zip(networks, cmap))\n",
    "    \n",
    "    network_label = x.split('_')[2]\n",
    "    return pairings[network_label]\n",
    "\n",
    "def set_network(x):\n",
    "    \n",
    "    networks = ['Vis', 'SomMot', 'DorsAttn', 'SalVentAttn', \n",
    "                'Limbic', 'Cont', 'Default']\n",
    "    index = [1, 2, 3, 4, 5, 6, 7]\n",
    "    pairings = dict(zip(networks, index))\n",
    "    \n",
    "    network_label = x.split('_')[2]\n",
    "    return pairings[network_label]\n",
    "\n",
    "node_colors = [set_color(i) for i in labels]\n",
    "node_network = [set_network(i) for i in labels]"
   ]
  },
  {
   "cell_type": "code",
   "execution_count": null,
   "metadata": {},
   "outputs": [],
   "source": [
    "G = nx.from_numpy_matrix(thresh_cmat)\n",
    "G = nx.relabel_nodes(G, lambda x: label_data['number'].tolist()[x])\n",
    "\n"
   ]
  },
  {
   "cell_type": "code",
   "execution_count": null,
   "metadata": {},
   "outputs": [],
   "source": [
    "nx.draw_kamada_kawai(G, node_color=node_colors, node_size=150)"
   ]
  },
  {
   "cell_type": "code",
   "execution_count": null,
   "metadata": {},
   "outputs": [],
   "source": [
    "nx.draw_kamada_kawai(G, node_color=node_colors, node_size=150, with_labels=True)"
   ]
  },
  {
   "cell_type": "markdown",
   "metadata": {},
   "source": [
    "For reference, the Schaefer atlas layout is below: ![](https://github.com/danjgale/psyc-917/blob/master/images/schaefer_100.png?raw=true)"
   ]
  },
  {
   "cell_type": "markdown",
   "metadata": {},
   "source": []
  },
  {
   "cell_type": "code",
   "execution_count": null,
   "metadata": {},
   "outputs": [],
   "source": [
    "def stat_map(x, atlas):\n",
    "\n",
    "    img_data = atlas.get_fdata()\n",
    "    indices = np.unique(img_data)[1:]\n",
    "\n",
    "    arr = img_data.copy()\n",
    "    for val, i in zip(x, indices):\n",
    "        arr = np.where(arr == i, val, arr)\n",
    "        \n",
    "    return nib.Nifti1Image(arr, atlas.affine)"
   ]
  },
  {
   "cell_type": "code",
   "execution_count": null,
   "metadata": {},
   "outputs": [],
   "source": [
    "A = thresh_cmat\n",
    "\n",
    "degrees = bct.degrees_und(A)\n",
    "strengths = bct.strengths_und(A)\n",
    "eigin_cent = bct.eigenvector_centrality_und(A)\n",
    "between_cent = bct.betweenness_wei(A)\n",
    "\n",
    "participation = bct.participation_coef(A, node_network)"
   ]
  },
  {
   "cell_type": "code",
   "execution_count": null,
   "metadata": {},
   "outputs": [],
   "source": [
    "atlas_img = nib.load(atlas['maps'])\n",
    "\n",
    "res = stat_map(strengths, atlas_img)\n",
    "plotting.view_img(res, vmin=0, cmap='magma', symmetric_cmap=False)"
   ]
  },
  {
   "cell_type": "code",
   "execution_count": null,
   "metadata": {},
   "outputs": [],
   "source": []
  }
 ],
 "metadata": {
  "kernelspec": {
   "display_name": "Python 3",
   "language": "python",
   "name": "python3"
  },
  "language_info": {
   "codemirror_mode": {
    "name": "ipython",
    "version": 3
   },
   "file_extension": ".py",
   "mimetype": "text/x-python",
   "name": "python",
   "nbconvert_exporter": "python",
   "pygments_lexer": "ipython3",
   "version": "3.7.0"
  }
 },
 "nbformat": 4,
 "nbformat_minor": 4
}
