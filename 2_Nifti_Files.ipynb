{
 "cells": [
  {
   "cell_type": "markdown",
   "metadata": {},
   "source": [
    "# Working with NIfTI files using Nibabel and Nilearn\n",
    "\n",
    "This lesson shows us how we can load NIfTI files in Python so that we can use them. We'll learn to inspect header information, as well as how to access the voxel data. Finally, we'll visualize the image directly in the notebook.\n",
    "\n",
    "## 1. Loading a NIfTI file\n",
    "\n",
    "Python has an amazing package called [nibabel](https://nipy.org/nibabel/) that loads in all sorts of imaging formats, including the most common MRI format, NIfTI (`.nii` or `.nii.gz`). Without nibabel, neuroimaging in Python probably wouldn't exist. We'll import nibabel as it's abbreviation, `nib`, which is how nibabel is conventionally imported in programs.  "
   ]
  },
  {
   "cell_type": "code",
   "execution_count": null,
   "metadata": {},
   "outputs": [],
   "source": [
    "import nibabel as nib\n",
    "\n",
    "anat_file = 'data/sub-01/anat/sub-01_T1w.nii.gz'\n",
    "anat_file = nib.load(anat_file)\n",
    "\n",
    "anat_file"
   ]
  },
  {
   "cell_type": "markdown",
   "metadata": {},
   "source": [
    "You can see that `anat_file` is an object (an instance of `Nifti1Image`, specifically). \n",
    "\n",
    "A NIfTI image consists of a header, which contains metadata, and the actual image, which is a 3- or 4-dimensional matrix. First, let's check out the header. \n",
    "\n",
    "## 2. NIfTI Headers\n",
    "\n",
    "`anat_img` is a `NiftiImage` object, which has several attributes and methods. Printing the `header` attribute will show you the header data:"
   ]
  },
  {
   "cell_type": "code",
   "execution_count": null,
   "metadata": {},
   "outputs": [],
   "source": [
    "print(anat_file.header)"
   ]
  },
  {
   "cell_type": "markdown",
   "metadata": {},
   "source": [
    "You can also just show the **affine matrix** in the header. The affine matrix defines the space that the data lives in.\n",
    "\n",
    "We can see the affine matrix by calling the `affine` attribute. You'll notice that the values correspond to the `srow_*` keys in the header:"
   ]
  },
  {
   "cell_type": "code",
   "execution_count": null,
   "metadata": {},
   "outputs": [],
   "source": [
    "print(anat_file.affine)"
   ]
  },
  {
   "cell_type": "markdown",
   "metadata": {},
   "source": [
    "## 3. NIfTI image data\n",
    "\n",
    "The actual data in the file is stored separately as a matrix. We can access this data by calling the `get_fdata()` method, which will return the data as a `numpy` array. "
   ]
  },
  {
   "cell_type": "code",
   "execution_count": null,
   "metadata": {},
   "outputs": [],
   "source": [
    "img_array = anat_file.get_fdata()\n",
    "\n",
    "img_array"
   ]
  },
  {
   "cell_type": "markdown",
   "metadata": {},
   "source": [
    "For brevity, Jupyter only shows a condensed version of the array. Each number/element is a voxel, and the value corresponds to its intensity value.  \n",
    "\n",
    "There is clearly a lot of data not being printed. To get the dimensions of the data, we can call `shape`, which will give us the number of voxels in the x, y, and z directions:"
   ]
  },
  {
   "cell_type": "code",
   "execution_count": null,
   "metadata": {},
   "outputs": [],
   "source": [
    "print(anat_file.shape)\n",
    "\n",
    "# or using img_array\n",
    "img_array.shape"
   ]
  },
  {
   "cell_type": "markdown",
   "metadata": {},
   "source": [
    "We see that it is a 3D image; it is an anatomical image that has *one* 3D volume. Meanwhile, functional images collect volumes over time. If this *was* a functional image, we would see a fourth dimension, which would correspond to the number of volumes collected.\n",
    "\n",
    "\n",
    "To get a sense of how many different values are actually in the data, we can plot a histogram:"
   ]
  },
  {
   "cell_type": "code",
   "execution_count": null,
   "metadata": {},
   "outputs": [],
   "source": [
    "%matplotlib inline\n",
    "import matplotlib.pyplot as plt\n",
    "\n",
    "plt.hist(img_array.ravel(), bins=30)\n",
    "plt.show()"
   ]
  },
  {
   "cell_type": "markdown",
   "metadata": {},
   "source": [
    "While there are many close-to-zero voxels in there (non-brain voxels), there are many voxels with high intensity values that are brain and other tissue voxels.\n",
    "\n",
    "## 4. Visualizing images directly in Python using Nilearn\n",
    "\n",
    "Nilearn is a powerful package that is essential to neuroimaging in Python. It was originally developed to facilitate machine-learning task on MRI data (hence the name), but now, in addition to all sorts of analysis functions, it includes a whole bunch of handy functions to work with MRI data in general. This includes a bunch of plotting functions. \n",
    "\n",
    "We can plot our anatomical image using the `plot_anat` function imported from nilearn. `plot_anat` has a number of parameters you can specify, such as `cut_coords` to determine which slices of the image we will look at. "
   ]
  },
  {
   "cell_type": "code",
   "execution_count": null,
   "metadata": {},
   "outputs": [],
   "source": [
    "from nilearn import plotting\n",
    "\n",
    "plotting.plot_anat(anat_file, vmax=800, cut_coords=[0, 0, 0])\n",
    "plt.show()"
   ]
  },
  {
   "cell_type": "markdown",
   "metadata": {},
   "source": [
    "In addition to orthographic plotting (showing a slice in x, y, and z directions), we can also plot slices along a certain axis by passing a list of coordinates to `cut_coords`, and specifying the axis in `display_mode`. Note that these coordinates are not the voxel coordinates/indices, but the actual image coordinates. "
   ]
  },
  {
   "cell_type": "code",
   "execution_count": null,
   "metadata": {},
   "outputs": [],
   "source": [
    "plotting.plot_anat(anat_file, cut_coords=[-40, -20, 0, 20, 40], display_mode='x', vmax=800)\n",
    "plt.show()"
   ]
  },
  {
   "cell_type": "markdown",
   "metadata": {},
   "source": [
    "We can also plot the image *interactively* in Jupyter by using the `view_img` function. This is a great way to quickly view a file, but I wouldn't recommend it for your primary interactive visualization tool because it's not a full-featured visualization tool. For that, I would recommend GUI's such as [FSLEyes](https://users.fmrib.ox.ac.uk/~paulmc/fsleyes/userdoc/latest/) or [MRIcron](https://www.nitrc.org/projects/mricron). Nevertheless, we *will* be using `view_img` throughout the course to quickly check some of our results."
   ]
  },
  {
   "cell_type": "code",
   "execution_count": null,
   "metadata": {},
   "outputs": [],
   "source": [
    "plotting.view_img(anat_file, bg_img=False, cmap='binary_r', symmetric_cmap=False, \n",
    "                  colorbar=False, vmax=800)"
   ]
  },
  {
   "cell_type": "markdown",
   "metadata": {},
   "source": [
    "## 4. Excercise: Inspecting a functional image\n",
    "\n",
    "We could have very well easily done the previous section with a functional MRI image. Nibabel will treat a functional image in the exact same way as an anatomical image, and the same methods/functions can be used. Quickly, we'll just visualize a volume from a functional image. "
   ]
  },
  {
   "cell_type": "code",
   "execution_count": null,
   "metadata": {},
   "outputs": [],
   "source": [
    "func_file = 'data/sub-01/func/sub-01_task-motor_run-01_bold.nii.gz'\n",
    "func_file = nib.load(func_file)"
   ]
  },
  {
   "cell_type": "markdown",
   "metadata": {},
   "source": [
    "Keep in mind that the functional image has 4 dimensions. We can only plot one volume at a time, so we can pick a slice to plot. We can use nilearn's `index_img` function to get a single volume from a functional image:"
   ]
  },
  {
   "cell_type": "code",
   "execution_count": null,
   "metadata": {},
   "outputs": [],
   "source": [
    "from nilearn.image import index_img\n",
    "\n",
    "first_volume = index_img(func_file, index=0)\n",
    "plotting.plot_anat(first_volume)"
   ]
  },
  {
   "cell_type": "markdown",
   "metadata": {},
   "source": [
    "I'll let you answer the following:\n",
    "\n",
    "1. What are the dimensions/shape of the image?\n",
    "2. What does the affine matrix look like?\n",
    "3. What does the 5th volume look like? Because indexing starts a 0 in python, the fifth image is indexed using 4."
   ]
  },
  {
   "cell_type": "code",
   "execution_count": null,
   "metadata": {},
   "outputs": [],
   "source": []
  }
 ],
 "metadata": {
  "kernelspec": {
   "display_name": "Python 3",
   "language": "python",
   "name": "python3"
  },
  "language_info": {
   "codemirror_mode": {
    "name": "ipython",
    "version": 3
   },
   "file_extension": ".py",
   "mimetype": "text/x-python",
   "name": "python",
   "nbconvert_exporter": "python",
   "pygments_lexer": "ipython3",
   "version": "3.7.0"
  }
 },
 "nbformat": 4,
 "nbformat_minor": 4
}
