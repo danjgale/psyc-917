{
 "cells": [
  {
   "cell_type": "markdown",
   "metadata": {},
   "source": [
    "# Python Overview"
   ]
  },
  {
   "cell_type": "markdown",
   "metadata": {},
   "source": [
    "Within the last 10-15 years, Python's popularity has exploded in science. This is largely due to its easy syntax, large community, the development of some fundamental scientific computing packages, and its exceptional tooling. \n",
    "\n",
    "This course is not a course on learning Python, but rather a course on learning fMRI analysis. It just so happens to be that Python is an excellent choice for neuroimaging thanks to a number of packages that we'll use throughout the course. It is **not** expected that you need to know Python to participate in the course, but you will be introduced to Python syntax and some broader Python concepts along the way.\n",
    "\n",
    "\n",
    "## Computing environments\n",
    "\n",
    "You are likely familiar with various types of scientific and statistical software. These tools might be 'interface-oriented' (e.g., Excel, SPSS), or programming-oriented (e.g., MATLAB, RStudio for R), but share one key feature: You can open up the application and begin working on your analysis right away. Therefore, the environment in which you perform your data analysis is nicely encapsulated in the application that you are using. Should you need to add external libraries to this environment, the application often makes it easy to do so. For scientists whose first priority is their science, not their computers, the user-friendly aspects of these tools are great. \n",
    "\n",
    "So where does Python fit in?\n",
    "\n",
    "Python is a general purpose programming language. It is use for web development, simple computer programs, and science, among others. Because of its generality and use-case diversity, _there is no single application or interface for Python_. There are also _tons_ of packages, openly-developed by community members and freely available, that serve different purposes and make progamming in different fields possible (more on this later).\n",
    "\n",
    "Someone who wants to use Python has to _build their own computing environment_ by deciding on a) the application to program with, and b) the packages that they need to install. This flexibility is a _feature, not a bug_: Users can build their own computing environments and program in the way the best suits them. You can imagine that a web developer would probably have a very different computing environment than a scientist.\n",
    "\n",
    "For users coming from other tools such as MATLAB and R, this can seem daunting and unnecessary. It's hard to convince some people to switch over to Python for this reason. But, once you get past this step and begin diving into Python's scientific ecosystems, it becomes easy to see the benefit of the flexibility and generality that Python has to offer. \n",
    "\n",
    "## Anaconda\n",
    "\n",
    "[Anaconda](https://www.anaconda.com/) has made the jump to Python for scientists much smaller. It provides a comprehensive Python distribution tailored towards scientific computing. It provides tons of data-related packages as well as tools that make programming scientific analyses and projects easy. We will be using Anaconda in the course, and we'll install some additional packages for neuroimaging that aren't included in the distribution.\n",
    "\n",
    "If you haven't already, [you can download the Python 3.7 distribution for your operating system here](https://www.anaconda.com/distribution/).\n",
    "\n",
    "## Python 2 or 3?\n",
    "\n",
    "Python had an ugly transition from Python 2 to 3 that lasted the entire decade. Python 3 brought some fundamental changes to the language that were incompatible with Python 2. Many people were reluctant to switch, and packages were slow to add support for Python 3. So inevitably, beginners were faced with the big question: Python 2 or 3? Thankfully, Python 3 has been the clear answer for the last 4-5 years now. Support for Python 2 just stopped on January 1, and pretty much all of the big packages support Python 3 (in fact, many no longer support Python 2 at all).   \n",
    "\n",
    "## Jupyter notebooks\n",
    "\n",
    "Python code typically lives in `.py` files. These can run as scripts or contain a collection of functions (called a 'module'). Unless you program more like a developer, Python files are often not ideal for the level of interactivity that science typically involves (although this is a big discussion topic and I seldom use notebooks as my main tool for a variety of reasons...). For instance, you often want to re-run something when you are tinkering with your code or making sure it is correct. MATLAB and R make this interaction easy by allowing line-by-line code execution.\n",
    "\n",
    "Python took a fundamentally different approach to code interaction by introducing Ipython and subsequently Jupyter notebooks. Notebooks are a mixture of text and code cells that make it possible to interact with code and write meaningful text all in one document, exactly like a lab notebook.\n",
    "\n",
    "This course will use Jupyter notebooks extensively. We will use Jupyter Lab (which comes with Anaconda) to open and run notebooks (learn more about Jupyter [here](https://jupyter.org/)). \n",
    "\n",
    "You can run code cells by running `Ctrl + Enter` (or `Cmd + Enter`). It will print out the result of the last line in the cell."
   ]
  },
  {
   "cell_type": "code",
   "execution_count": null,
   "metadata": {},
   "outputs": [],
   "source": [
    "print(\"Hello World!\")"
   ]
  },
  {
   "cell_type": "markdown",
   "metadata": {},
   "source": [
    "## Basic syntax\n",
    "\n",
    "Here we'll do a quick overview of Python, starting with basic syntax."
   ]
  },
  {
   "cell_type": "code",
   "execution_count": null,
   "metadata": {},
   "outputs": [],
   "source": [
    "# this is a comment; it is not evalutated\n",
    "a = 10\n",
    "b = 5\n",
    "a + b "
   ]
  },
  {
   "cell_type": "code",
   "execution_count": null,
   "metadata": {},
   "outputs": [],
   "source": [
    "# boolean\n",
    "a == 10"
   ]
  },
  {
   "cell_type": "code",
   "execution_count": null,
   "metadata": {},
   "outputs": [],
   "source": [
    "# strings\n",
    "sentence = 'This is a string'\n",
    "sentence"
   ]
  },
  {
   "cell_type": "code",
   "execution_count": null,
   "metadata": {},
   "outputs": [],
   "source": [
    "# list \n",
    "list_of_numbers = [1, 2, 3, 4]\n",
    "\n",
    "# index the third element; note that Python is zero-index\n",
    "list_of_numbers[2]"
   ]
  },
  {
   "cell_type": "code",
   "execution_count": null,
   "metadata": {},
   "outputs": [],
   "source": [
    "animals = {'dogs': 5, 'cats': 7, 'hamsters': 2}\n",
    "animals['dogs']"
   ]
  },
  {
   "cell_type": "code",
   "execution_count": null,
   "metadata": {},
   "outputs": [],
   "source": [
    "# lists can be anything\n",
    "list_of_stuff = ['fMRI', 4, a]\n",
    "list_of_stuff"
   ]
  },
  {
   "cell_type": "code",
   "execution_count": null,
   "metadata": {},
   "outputs": [],
   "source": [
    "if a == 9:\n",
    "    print(\"a is equal to nine!\")\n",
    "else:\n",
    "    print(\"a is not equal to nine :(\")"
   ]
  },
  {
   "cell_type": "markdown",
   "metadata": {},
   "source": [
    "## Python functions\n",
    "\n",
    "Functions are part of any programming language. Functions take a set of inputs, perform some operation, and then return an output. Functions therefore are the way you can perform all sorts of tasks in Python, and we'll be using them constantly. It is really easy to write your own function in Python:"
   ]
  },
  {
   "cell_type": "code",
   "execution_count": null,
   "metadata": {},
   "outputs": [],
   "source": [
    "def add_numbers(x, y):\n",
    "    return x + y\n",
    "\n",
    "add_numbers(2, 4)"
   ]
  },
  {
   "cell_type": "code",
   "execution_count": null,
   "metadata": {},
   "outputs": [],
   "source": [
    "def is_nine(x):\n",
    "    if x == 9:\n",
    "        result = True\n",
    "    else:\n",
    "        result = False\n",
    "    return result\n",
    "\n",
    "is_nine(a)"
   ]
  },
  {
   "cell_type": "markdown",
   "metadata": {},
   "source": [
    "## Python objects\n",
    "\n",
    "Almost everything in Python are objects. Objects have attributes and methods: Attributes are properties of the object, and methods are functions that act specifically on the object. \n",
    "\n",
    "Object attributes are called using **dot notation**. Dot notation, like in many programming languages, chains things that belong together so that the progam (and the programmer) know what belongs to what. "
   ]
  },
  {
   "cell_type": "code",
   "execution_count": null,
   "metadata": {},
   "outputs": [],
   "source": [
    "cat = 'cat'\n",
    "cat.upper()"
   ]
  },
  {
   "cell_type": "code",
   "execution_count": null,
   "metadata": {},
   "outputs": [],
   "source": [
    "animals.keys()"
   ]
  },
  {
   "cell_type": "markdown",
   "metadata": {},
   "source": [
    "## Python packages\n",
    "\n",
    "![](https://imgs.xkcd.com/comics/python.png)"
   ]
  },
  {
   "cell_type": "markdown",
   "metadata": {},
   "source": [
    "Packages are a collection of modules that contain a variety of functions and objects. Every Python installation comes with a set of fundamental packages called the standard library. We have to install packages that exist outside of this core library. I should note that Anaconda is unique because it installs many 'non-standard' libraries as well. \n",
    "\n",
    "Once installed, packages are imported using import statements. Functions that belong to packages are called using dot notation. We can import the `math` module, which comes as part of the standard library:"
   ]
  },
  {
   "cell_type": "code",
   "execution_count": null,
   "metadata": {},
   "outputs": [],
   "source": [
    "import math\n",
    "\n",
    "math.sqrt(25)"
   ]
  },
  {
   "cell_type": "markdown",
   "metadata": {},
   "source": [
    "We can also import specific functions from packages instead of having to rely on dot notation:"
   ]
  },
  {
   "cell_type": "code",
   "execution_count": null,
   "metadata": {},
   "outputs": [],
   "source": [
    "from math import sqrt\n",
    "\n",
    "sqrt(25)"
   ]
  },
  {
   "cell_type": "markdown",
   "metadata": {},
   "source": [
    "We can also import a packages **as** something, just to make our code a little less cluttered. Some fundamental packages are often imported as an abbreviation, so much so that it is the 'right' way to import it. Numpy is one these packages, and several others we will also use have their own convention. \n",
    "\n",
    "Note that numpy is _not_ part of the standard library, but it is one of the many packages installed automatically with Anaconda."
   ]
  },
  {
   "cell_type": "code",
   "execution_count": null,
   "metadata": {},
   "outputs": [],
   "source": [
    "import numpy as np\n",
    "\n",
    "np.sqrt(25)"
   ]
  },
  {
   "cell_type": "markdown",
   "metadata": {},
   "source": [
    "In the course, we will be using some major scientific computing packages in addition to neuroimaging-specific packages. Numpy, as we imported above, is *the* numerical package of Python. It gives us numpy arrays, which are the most import object in all of Python's scientific computing ecosystem. \n",
    "\n",
    "### Numpy"
   ]
  },
  {
   "cell_type": "code",
   "execution_count": null,
   "metadata": {},
   "outputs": [],
   "source": [
    "vector = np.array([1, 2, 3, 4])\n",
    "vector"
   ]
  },
  {
   "cell_type": "code",
   "execution_count": null,
   "metadata": {},
   "outputs": [],
   "source": [
    "matrix = np.array([[1, 2], [3, 4]])\n",
    "matrix"
   ]
  },
  {
   "cell_type": "code",
   "execution_count": null,
   "metadata": {},
   "outputs": [],
   "source": [
    "matrix.shape"
   ]
  },
  {
   "cell_type": "code",
   "execution_count": null,
   "metadata": {},
   "outputs": [],
   "source": [
    "matrix[0, 0]"
   ]
  },
  {
   "cell_type": "code",
   "execution_count": null,
   "metadata": {},
   "outputs": [],
   "source": [
    "# select bottom row\n",
    "matrix[1, :]"
   ]
  },
  {
   "cell_type": "markdown",
   "metadata": {},
   "source": [
    "There will be other packages we will use pretty religiously. These include:\n",
    "\n",
    "1. `scipy`\n",
    "2. `pandas`\n",
    "3. `matplotlib`\n",
    "\n",
    "Among others...\n",
    "\n",
    "We will also be using neuroimaging-specific packages such as:\n",
    "\n",
    "1. `nibabel`\n",
    "2. `nilearn`\n",
    "3. `nistats`\n",
    "\n",
    "These will be introduced as they come up in the course. \n",
    "\n",
    "Let's install all of them using the `pip` command. All of the packages needed in the course are in the `requirements.txt` file in the repository:"
   ]
  },
  {
   "cell_type": "code",
   "execution_count": null,
   "metadata": {},
   "outputs": [],
   "source": [
    "pip install -r requirements.txt"
   ]
  },
  {
   "cell_type": "markdown",
   "metadata": {},
   "source": [
    "# How on earth do I learn all of this stuff?? \n",
    "\n",
    "Good question. There are *tons* of resources if you want to learn Python. My favourites include:\n",
    "\n",
    "1. [Scipy Lectures](https://scipy-lectures.org/), which are an excellent and to-the-point introductory resource. This will give you just enough to get started.\n",
    "2. [Python Data Science Handbook](https://jakevdp.github.io/PythonDataScienceHandbook/), by Jake VanderPlas. VanderPlas is a data scientist and astronomer with the Allen Institute at UW who is a huge name in the field. This is a great textbook that covers many of the packages that we'll use in depth. If you're wanting to continue on with Python after the course, then this is a must read. (see the [Github repo](https://github.com/jakevdp/PythonDataScienceHandbook) for code tutorials).\n",
    "3. The Python tutorial in [A First Course in Network Science](https://github.com/CambridgeUniversityPress/FirstCourseNetworkScience/blob/master/tutorials/Appendix%20-%20Python%20Tutorial.ipynb) is a quick tutorial that covers much of what we did here. But because it's from a textbook, it goes into more detail.\n",
    "\n",
    "I also recommend (actually, this is required) watching at Jake VanderPlas' talk on the Python scientific ecosystem:\n",
    "https://www.youtube.com/watch?v=DifMYH3iuFw\n",
    "\n",
    "Again, this course is not a Python course, and pretty much all of the syntax you need to know will be provided. *But*, if you are wanting to learn Python, or wanting to use some of the best tools available in fMRI and stay on the cutting edge, or wanting to boost your employment prospects, then this course is a great opportunity.  "
   ]
  },
  {
   "cell_type": "code",
   "execution_count": null,
   "metadata": {},
   "outputs": [],
   "source": []
  }
 ],
 "metadata": {
  "kernelspec": {
   "display_name": "Python 3",
   "language": "python",
   "name": "python3"
  },
  "language_info": {
   "codemirror_mode": {
    "name": "ipython",
    "version": 3
   },
   "file_extension": ".py",
   "mimetype": "text/x-python",
   "name": "python",
   "nbconvert_exporter": "python",
   "pygments_lexer": "ipython3",
   "version": "3.7.0"
  }
 },
 "nbformat": 4,
 "nbformat_minor": 4
}
