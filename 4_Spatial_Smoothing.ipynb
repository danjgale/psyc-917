{
 "cells": [
  {
   "cell_type": "markdown",
   "metadata": {},
   "source": [
    "# Spatial Smoothing\n",
    "\n",
    "\n",
    "This week we'll be using nilearn's `smooth_img` ([documentation](https://nilearn.github.io/modules/generated/nilearn.image.smooth_img.html#nilearn.image.smooth_img)) from [the image module](https://nilearn.github.io/modules/reference.html#module-nilearn.image) to spatially smooth some of our functional data. \n",
    "\n",
    "Note: Unlike previous weeks, all our imports are done at the top of the file. This is convention not just for Python but for many languages (e.g., R, Java). This keeps everything together and puts all of the dependencies up front. "
   ]
  },
  {
   "cell_type": "code",
   "execution_count": null,
   "metadata": {},
   "outputs": [],
   "source": [
    "from pathlib import Path\n",
    "import nibabel as nib\n",
    "from nilearn.image import smooth_img, index_img\n",
    "from nilearn.plotting import plot_anat"
   ]
  },
  {
   "cell_type": "code",
   "execution_count": null,
   "metadata": {},
   "outputs": [],
   "source": [
    "func_file = Path('data/sub-08/ses-test/func/sub-08_ses-test_task-fingerfootlips_bold.nii.gz')\n",
    "func_file = nib.load(func_file)"
   ]
  },
  {
   "cell_type": "markdown",
   "metadata": {},
   "source": [
    "Next, let's check out `smooth_img`:"
   ]
  },
  {
   "cell_type": "code",
   "execution_count": null,
   "metadata": {},
   "outputs": [],
   "source": [
    "smooth_img?"
   ]
  },
  {
   "cell_type": "markdown",
   "metadata": {},
   "source": [
    "We see that `smooth_img` applies a 3D Gaussian filter across the image, and the extent of the smoothing is determined by the size of the Gaussian kernel. The size is set by the full-width-half-maximum (FWHM) parameter, `smoothing_fhwm`. Typical smoothing values are between 5-8mm.\n",
    "\n",
    "Let's apply 6mm FWHM smoothing to our data:"
   ]
  },
  {
   "cell_type": "code",
   "execution_count": null,
   "metadata": {},
   "outputs": [],
   "source": [
    "smoothed_data = smooth_img(func_file, fwhm=6)"
   ]
  },
  {
   "cell_type": "markdown",
   "metadata": {},
   "source": [
    "Next, let's plot a volume from the image and see the difference between the unsmoothed and smoothed image."
   ]
  },
  {
   "cell_type": "code",
   "execution_count": null,
   "metadata": {},
   "outputs": [],
   "source": [
    "unsmoothed_vol = index_img(func_file, 10)\n",
    "plot_anat(unsmoothed_vol, title='Unsmoothed data', cut_coords=[0, 5, 16])\n",
    "\n",
    "smoothed_vol = index_img(smoothed_data, 10)\n",
    "plot_anat(smoothed_vol, title='Smoothed data', cut_coords=[0, 5, 16])"
   ]
  },
  {
   "cell_type": "markdown",
   "metadata": {},
   "source": [
    "## Excercise: Testing different smoothing kernels\n",
    "\n",
    "Apply `smooth_img` to `func_file` using 2mm, 8mm, 10mm, and 12mm FWHM. Plot the same volume for each one and compare."
   ]
  },
  {
   "cell_type": "code",
   "execution_count": null,
   "metadata": {},
   "outputs": [],
   "source": []
  }
 ],
 "metadata": {
  "kernelspec": {
   "display_name": "Python 3",
   "language": "python",
   "name": "python3"
  },
  "language_info": {
   "codemirror_mode": {
    "name": "ipython",
    "version": 3
   },
   "file_extension": ".py",
   "mimetype": "text/x-python",
   "name": "python",
   "nbconvert_exporter": "python",
   "pygments_lexer": "ipython3",
   "version": "3.7.0"
  }
 },
 "nbformat": 4,
 "nbformat_minor": 4
}
