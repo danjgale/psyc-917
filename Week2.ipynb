{
 "cells": [
  {
   "cell_type": "markdown",
   "metadata": {},
   "source": [
    "# Week 2: Python for Neuroscience and Neuroimaging "
   ]
  },
  {
   "cell_type": "markdown",
   "metadata": {},
   "source": [
    "## 1. Python for Neuroscience\n",
    "\n",
    "Wihtin the last 10-15 years, Python's popularity has exploded in science. This is largely due to its easy syntax, large community, the development of some fundamental scientific computing packages, and its exceptional tooling. \n",
    "\n",
    "This course is not a course on learning Python, but rather a course on learning fMRI analysis. It just so happens to be that Python is an excellent choice for neuroimaging thanks to a number of packages that we'll use throughout the course. It is **not** expected that you need to know Python to participate in the course, but you will be introduced to Python syntax and some broader Python concepts along the way.\n",
    "\n",
    "### Jupyter notebooks\n",
    "\n",
    "Everything in this course will be done via Jupyter notebooks (https://jupyter.org/). These are a mixture of text and code cells that make it possible to run code and write meaningful text all in one document. You can run code cells by running `Ctrl + Enter` (or `Cmd + Enter`):"
   ]
  },
  {
   "cell_type": "code",
   "execution_count": null,
   "metadata": {},
   "outputs": [],
   "source": [
    "print(\"Hello World!\")"
   ]
  },
  {
   "cell_type": "markdown",
   "metadata": {},
   "source": [
    "### Basic syntax"
   ]
  },
  {
   "cell_type": "code",
   "execution_count": null,
   "metadata": {},
   "outputs": [],
   "source": [
    "# this is a comment; it is not evalutated\n",
    "a = 10\n",
    "b = 5\n",
    "a + b "
   ]
  },
  {
   "cell_type": "code",
   "execution_count": null,
   "metadata": {},
   "outputs": [],
   "source": [
    "# boolean\n",
    "a == 10"
   ]
  },
  {
   "cell_type": "code",
   "execution_count": null,
   "metadata": {},
   "outputs": [],
   "source": [
    "# strings\n",
    "sentence = 'This is a string'\n",
    "sentence"
   ]
  },
  {
   "cell_type": "code",
   "execution_count": null,
   "metadata": {},
   "outputs": [],
   "source": [
    "# list \n",
    "list_of_numbers = [1, 2, 3, 4]\n",
    "\n",
    "# index the third element; note that Python is zero-index\n",
    "list_of_numbers[2]"
   ]
  },
  {
   "cell_type": "code",
   "execution_count": null,
   "metadata": {},
   "outputs": [],
   "source": [
    "animals = {'dogs': 5, 'cats': 7, 'hamsters': 2}\n",
    "animals['dogs']"
   ]
  },
  {
   "cell_type": "code",
   "execution_count": null,
   "metadata": {},
   "outputs": [],
   "source": [
    "# lists can be anything\n",
    "list_of_stuff = ['fMRI', 4, a]\n",
    "list_of_stuff"
   ]
  },
  {
   "cell_type": "code",
   "execution_count": null,
   "metadata": {},
   "outputs": [],
   "source": [
    "if a == 9:\n",
    "    print(\"a is equal to nine!\")\n",
    "else:\n",
    "    print(\"a is not equal to nine :(\")"
   ]
  },
  {
   "cell_type": "markdown",
   "metadata": {},
   "source": [
    "### Python functions\n",
    "\n",
    "Functions are part of any programming language. Functions take a set of inputs, perform some operation or process, and then return an output. Functions therefore are the way you can perform all sorts of tasks in Python, and we'll be using them constantly. It is really easy to write your own function in Python:"
   ]
  },
  {
   "cell_type": "code",
   "execution_count": null,
   "metadata": {},
   "outputs": [],
   "source": [
    "def add_numbers(x, y):\n",
    "    return x + y\n",
    "\n",
    "add_numbers(2, 4)"
   ]
  },
  {
   "cell_type": "code",
   "execution_count": null,
   "metadata": {},
   "outputs": [],
   "source": [
    "def is_nine(x):\n",
    "    if x == 9:\n",
    "        result = True\n",
    "    else:\n",
    "        result = False\n",
    "    return result\n",
    "\n",
    "is_nine(a)"
   ]
  },
  {
   "cell_type": "markdown",
   "metadata": {},
   "source": [
    "### Python objects\n",
    "\n",
    "Almost everything in Python are objects. Objects have attributes and methods: Attributes are properties of the object, and methods are functions that act specifically on the object. \n",
    "\n",
    "Object attributes are called using **dot notation**. Dot notation, like in many programming languages, chains things that belong together so that the progam (and the programmer) know what belongs to what. "
   ]
  },
  {
   "cell_type": "code",
   "execution_count": null,
   "metadata": {},
   "outputs": [],
   "source": [
    "cat = 'cat'\n",
    "cat.upper()"
   ]
  },
  {
   "cell_type": "code",
   "execution_count": null,
   "metadata": {},
   "outputs": [],
   "source": [
    "animals.keys()"
   ]
  },
  {
   "cell_type": "markdown",
   "metadata": {},
   "source": [
    "### Python packages\n",
    "\n",
    "![](https://imgs.xkcd.com/comics/python.png)"
   ]
  },
  {
   "cell_type": "markdown",
   "metadata": {},
   "source": [
    "Python on it's own is very minimal and is not well-suited for scientific computing. In pretty much any project, people rely on Python packages. Packages have a variety of functions and objects that perform various computations and tasks. The python package ecosystem is *h u g e*, and generally it is prefered to import a function from a pre-existing package than to write your own. \n",
    "\n",
    "Packages are imported using import statements. Functions that belong to packages are called using dot notation."
   ]
  },
  {
   "cell_type": "code",
   "execution_count": null,
   "metadata": {},
   "outputs": [],
   "source": [
    "import math\n",
    "\n",
    "math.sqrt(25)"
   ]
  },
  {
   "cell_type": "code",
   "execution_count": null,
   "metadata": {},
   "outputs": [],
   "source": [
    "from math import sqrt\n",
    "import numpy as np\n",
    "\n",
    "np.sqrt(25)"
   ]
  },
  {
   "cell_type": "markdown",
   "metadata": {},
   "source": [
    "We will be using some major scientific computing packages in addition to neuroimaging-specific packages. Numpy, as we imported above, is *the* numerical package of Python. It gives us numpy arrays, which are the most import object in all of Python's scientific computing ecosystem. "
   ]
  },
  {
   "cell_type": "code",
   "execution_count": null,
   "metadata": {},
   "outputs": [],
   "source": [
    "vector = np.array([1, 2, 3, 4])\n",
    "vector"
   ]
  },
  {
   "cell_type": "code",
   "execution_count": null,
   "metadata": {},
   "outputs": [],
   "source": [
    "matrix = np.array([[1, 2], [3, 4]])\n",
    "matrix"
   ]
  },
  {
   "cell_type": "code",
   "execution_count": null,
   "metadata": {},
   "outputs": [],
   "source": [
    "matrix.shape"
   ]
  },
  {
   "cell_type": "markdown",
   "metadata": {},
   "source": [
    "There will be other packages we will use pretty religiously. These include:\n",
    "\n",
    "1. `scipy`\n",
    "2. `pandas`\n",
    "3. `matplotlib`\n",
    "\n",
    "Among others...\n",
    "\n",
    "We will also be using neuroimaging-specific packages such as:\n",
    "\n",
    "1. `nibabel`\n",
    "2. `nilearn`\n",
    "3. `nistats`\n",
    "\n",
    "These will be introduced as they come up in the course. \n",
    "\n",
    "Let's install all of them using the `pip` command. All of the packages needed in the course are in the `requirements.txt` file in the repository:"
   ]
  },
  {
   "cell_type": "code",
   "execution_count": null,
   "metadata": {},
   "outputs": [],
   "source": [
    "%%capture\n",
    "pip install -r requirements.txt"
   ]
  },
  {
   "cell_type": "markdown",
   "metadata": {},
   "source": [
    "## 2. How on earth do I learn all of this stuff?? \n",
    "\n",
    "Good question. There are *tons* of resources if you want to learn Python. My favourites include:\n",
    "\n",
    "1. [Scipy Lectures](https://scipy-lectures.org/), which are an excellent and to-the-point introductory resource. This will give you just enough to get started.\n",
    "2. [Python Data Science Handbook](https://jakevdp.github.io/PythonDataScienceHandbook/), by Jake VanderPlas. VanderPlas is a data scientist and astronomer with the Allen Institute at UW who is a huge name in the field. This is a great textbook that covers many of the packages that we'll use in depth. If you're wanting to continue on with Python after the course, then this is a must read. (see the [Github repo](https://github.com/jakevdp/PythonDataScienceHandbook) for code tutorials).\n",
    "3. The Python tutorial in [A First Course in Network Science](https://github.com/CambridgeUniversityPress/FirstCourseNetworkScience/blob/master/tutorials/Appendix%20-%20Python%20Tutorial.ipynb) is a quick tutorial that covers much of what we did here. But because it is a textbook, it goes into more detail.\n",
    "\n",
    "I also recommend (actually, this is required) watching at Jake VanderPlas' talk on the Python scientific ecosystem:\n",
    "https://www.youtube.com/watch?v=DifMYH3iuFw\n",
    "\n",
    "Again, this course is not a Python course, and pretty much all of the syntax you need to know will be provided. *But*, if you are wanting to learn Python, or wanting to use some of the best tools available in fMRI and stay on the cutting edge, or wanting to boost your employment prospects, then this course is a great opportunity.  "
   ]
  },
  {
   "cell_type": "markdown",
   "metadata": {},
   "source": [
    "## 3. Working with NIfTI files using Nibabel and Nilearn\n",
    "\n",
    "Python has an amazing package called [`nibabel`](https://nipy.org/nibabel/) that loads in all sorts of imaging formats, including the most common MRI format, NIfTI (`.nii` or `.nii.gz`). Without `nibabel`, neuroimaging in Python wouldn't exist."
   ]
  },
  {
   "cell_type": "code",
   "execution_count": null,
   "metadata": {},
   "outputs": [],
   "source": [
    "# import Path first, which makes sure that our file paths are cross-platform compatible\n",
    "from pathlib import Path\n",
    "\n",
    "import nibabel as nib\n",
    "\n",
    "anat_file = Path('data/sub-01/ses-test/anat/sub-01_ses-test_T1w.nii.gz')\n",
    "anat_file = nib.load(anat_file)\n",
    "\n",
    "anat_file"
   ]
  },
  {
   "cell_type": "markdown",
   "metadata": {},
   "source": [
    "You can see that `anat_file` is an object (a `Nifti1Image` object, specifically). \n",
    "\n",
    "A NIfTI image consists of a header, which contains metadata, and the actual image, which is a 3- or 4-dimensional matrix. First, let's check out the header. \n",
    "\n",
    "### 2.1 NIfTI Headers\n",
    "\n",
    "`anat_img` is a `NiftiImage` object, which has several attributes and methods. Printing the `header` attribute will show you the header data:"
   ]
  },
  {
   "cell_type": "code",
   "execution_count": null,
   "metadata": {},
   "outputs": [],
   "source": [
    "print(anat_file.header)"
   ]
  },
  {
   "cell_type": "markdown",
   "metadata": {},
   "source": [
    "You can also just show the **affine matrix** in the header. The affine matrix defines the space that the data lives in.\n",
    "\n",
    "We can see the affine matrix by calling the `affine` attribute. You'll notice that the values correspond to the `srow_*` keys in the header:"
   ]
  },
  {
   "cell_type": "code",
   "execution_count": null,
   "metadata": {},
   "outputs": [],
   "source": [
    "print(anat_file.affine)"
   ]
  },
  {
   "cell_type": "markdown",
   "metadata": {},
   "source": [
    "### 2.2 NIfTI image data\n",
    "\n",
    "The actual data in the file is stored separately. We can access this data by calling the `get_fdata()` method, which will return the data as a `numpy` array. "
   ]
  },
  {
   "cell_type": "code",
   "execution_count": null,
   "metadata": {},
   "outputs": [],
   "source": [
    "img_array = anat_file.get_fdata()\n",
    "\n",
    "img_array"
   ]
  },
  {
   "cell_type": "markdown",
   "metadata": {},
   "source": [
    "For brevity, Jupyter only shows a condensed version of the array. Each element is a voxel, and the value corresponds to its intensity value. All of the 0's above are because they're right at the edges of the image, where there is no brain! \n",
    "\n",
    "There is clearly a lot of data not being printed. To get the dimensions of the data, we can call `shape`, which will give us the number of voxels in the x, y, and z directions:"
   ]
  },
  {
   "cell_type": "code",
   "execution_count": null,
   "metadata": {},
   "outputs": [],
   "source": [
    "print(anat_file.shape)\n",
    "\n",
    "# or using img_array\n",
    "img_array.shape"
   ]
  },
  {
   "cell_type": "markdown",
   "metadata": {},
   "source": [
    "**Note:** This a 3D image; it is an anatomical image that has *one* 3D volume. Meanwhile, functional images collect volumes over time. If this *was* a functional image, we would see a fourth dimension, which would correspond to the number of volumes collected.\n",
    "\n",
    "\n",
    "To get a sense of how many different values are actually in the data, we can plot a histogram:"
   ]
  },
  {
   "cell_type": "code",
   "execution_count": null,
   "metadata": {},
   "outputs": [],
   "source": [
    "import matplotlib.pyplot as plt\n",
    "\n",
    "plt.hist(img_array.ravel(), bins=30)\n",
    "plt.show()"
   ]
  },
  {
   "cell_type": "markdown",
   "metadata": {},
   "source": [
    "While there are many zero-value voxels in there (non-brain voxels), there are many non-zero voxels that are brain and other tissue voxels.\n",
    "\n",
    "### 2.3 Visualizing images directly in Python using Nilearn\n",
    "\n",
    "Nilearn is a powerful package that is essential to neuroimaging in Python. It was originally developed to facilitate machine-learning task on MRI data (hence the name), but now, in addition to all sorts of analysis functions, it includes a whole bunch of handy functions to work with MRI data in general. This includes a bunch of plotting functions. \n",
    "\n",
    "We can plot our anatomical image using the `plot_anat` function imported from nilearn:"
   ]
  },
  {
   "cell_type": "code",
   "execution_count": null,
   "metadata": {},
   "outputs": [],
   "source": [
    "from nilearn import plotting\n",
    "\n",
    "plotting.plot_anat(anat_file)\n",
    "plt.show()"
   ]
  },
  {
   "cell_type": "markdown",
   "metadata": {},
   "source": [
    "In addition to orthographic plotting (showing a slice in x, y, and z directions), we can also plot slices along a certain axis by passing a list of coordinates to `cut_coords`, and specifying the axis in `display_mode`:"
   ]
  },
  {
   "cell_type": "code",
   "execution_count": null,
   "metadata": {},
   "outputs": [],
   "source": [
    "plotting.plot_anat(anat_file, cut_coords=[-40, -20, 0, 20, 40], display_mode='x')\n",
    "plt.show()"
   ]
  },
  {
   "cell_type": "markdown",
   "metadata": {},
   "source": [
    "We can also plot the image *interactively* in Jupyter by using the `view_img` function. This is a great way to quickly view a file, but I wouldn't recommend it for your primary interactive visualization tool because it's not a full-featured visualization tool. For that, I would recommend GUI's such as [FSLEyes](https://users.fmrib.ox.ac.uk/~paulmc/fsleyes/userdoc/latest/) or [MRIcron](https://www.nitrc.org/projects/mricron). Nevertheless, we *will* be using `view_img` throughout the course to quickly check some of our results."
   ]
  },
  {
   "cell_type": "code",
   "execution_count": null,
   "metadata": {},
   "outputs": [],
   "source": [
    "plotting.view_img(anat_file, bg_img=False, cmap='binary_r', symmetric_cmap=False, \n",
    "                  colorbar=False)"
   ]
  },
  {
   "cell_type": "markdown",
   "metadata": {},
   "source": [
    "## 4. Activity: Inspecting a functional image\n",
    "\n",
    "We could have very well easily done the previous section with a functional MRI image. `Nibabel` will treat a functional image in the exact same way as an anatomical image, and the same methods/functions can be used. Quickly, we'll just visualize a volume from a functional image. "
   ]
  },
  {
   "cell_type": "code",
   "execution_count": null,
   "metadata": {},
   "outputs": [],
   "source": [
    "func_file = Path('data/sub-01/ses-test/func/sub-01_ses-test_task-covertverbgeneration_bold.nii.gz')\n",
    "func_file = nib.load(func_file)"
   ]
  },
  {
   "cell_type": "markdown",
   "metadata": {},
   "source": [
    "Keep in mind that the functional image has 4 dimensions. We can only plot one volume at a time, so we can pick a slice to plot. We can use nilearn's `index_img` function to get a single volume from a functional image:"
   ]
  },
  {
   "cell_type": "code",
   "execution_count": null,
   "metadata": {},
   "outputs": [],
   "source": [
    "from nilearn.image import index_img\n",
    "\n",
    "first_volume = index_img(func_file, index=0)\n",
    "plotting.plot_anat(first_volume)"
   ]
  },
  {
   "cell_type": "markdown",
   "metadata": {},
   "source": [
    "I'll let you answer the following:\n",
    "\n",
    "1. What are the dimensions/shape of the image?\n",
    "2. What does the affine matrix look like?\n",
    "3. What does the 5th volume look like? Because indexing starts a 0 in python, the fifth image is indexed using 4."
   ]
  },
  {
   "cell_type": "code",
   "execution_count": null,
   "metadata": {},
   "outputs": [],
   "source": []
  }
 ],
 "metadata": {
  "kernelspec": {
   "display_name": "Python 3",
   "language": "python",
   "name": "python3"
  },
  "language_info": {
   "codemirror_mode": {
    "name": "ipython",
    "version": 3
   },
   "file_extension": ".py",
   "mimetype": "text/x-python",
   "name": "python",
   "nbconvert_exporter": "python",
   "pygments_lexer": "ipython3",
   "version": "3.7.0"
  }
 },
 "nbformat": 4,
 "nbformat_minor": 4
}
